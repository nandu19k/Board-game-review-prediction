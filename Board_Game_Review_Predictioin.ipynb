{
  "nbformat": 4,
  "nbformat_minor": 0,
  "metadata": {
    "colab": {
      "name": "Board Game Review Predictioin.ipynb",
      "provenance": []
    },
    "kernelspec": {
      "name": "python3",
      "display_name": "Python 3"
    }
  },
  "cells": [
    {
      "cell_type": "code",
      "metadata": {
        "id": "Nb5qjDF77Fnt",
        "colab_type": "code",
        "colab": {
          "base_uri": "https://localhost:8080/",
          "height": 74
        },
        "outputId": "60a11040-b13f-426f-d750-f0b746501fe9"
      },
      "source": [
        "import numpy as np\n",
        "import pandas as pd\n",
        "import matplotlib.pyplot as plt\n",
        "import seaborn as sns"
      ],
      "execution_count": 1,
      "outputs": [
        {
          "output_type": "stream",
          "text": [
            "/usr/local/lib/python3.6/dist-packages/statsmodels/tools/_testing.py:19: FutureWarning: pandas.util.testing is deprecated. Use the functions in the public API at pandas.testing instead.\n",
            "  import pandas.util.testing as tm\n"
          ],
          "name": "stderr"
        }
      ]
    },
    {
      "cell_type": "code",
      "metadata": {
        "id": "mVqP3j5C74Qp",
        "colab_type": "code",
        "colab": {}
      },
      "source": [
        "dataset = pd.read_csv('games.csv')"
      ],
      "execution_count": 2,
      "outputs": []
    },
    {
      "cell_type": "code",
      "metadata": {
        "id": "JNAF-XZD78gE",
        "colab_type": "code",
        "colab": {
          "base_uri": "https://localhost:8080/",
          "height": 356
        },
        "outputId": "0b223748-2685-401f-8ee4-2fcc14d428d4"
      },
      "source": [
        "dataset.head()"
      ],
      "execution_count": 3,
      "outputs": [
        {
          "output_type": "execute_result",
          "data": {
            "text/html": [
              "<div>\n",
              "<style scoped>\n",
              "    .dataframe tbody tr th:only-of-type {\n",
              "        vertical-align: middle;\n",
              "    }\n",
              "\n",
              "    .dataframe tbody tr th {\n",
              "        vertical-align: top;\n",
              "    }\n",
              "\n",
              "    .dataframe thead th {\n",
              "        text-align: right;\n",
              "    }\n",
              "</style>\n",
              "<table border=\"1\" class=\"dataframe\">\n",
              "  <thead>\n",
              "    <tr style=\"text-align: right;\">\n",
              "      <th></th>\n",
              "      <th>id</th>\n",
              "      <th>type</th>\n",
              "      <th>name</th>\n",
              "      <th>yearpublished</th>\n",
              "      <th>minplayers</th>\n",
              "      <th>maxplayers</th>\n",
              "      <th>playingtime</th>\n",
              "      <th>minplaytime</th>\n",
              "      <th>maxplaytime</th>\n",
              "      <th>minage</th>\n",
              "      <th>users_rated</th>\n",
              "      <th>average_rating</th>\n",
              "      <th>bayes_average_rating</th>\n",
              "      <th>total_owners</th>\n",
              "      <th>total_traders</th>\n",
              "      <th>total_wanters</th>\n",
              "      <th>total_wishers</th>\n",
              "      <th>total_comments</th>\n",
              "      <th>total_weights</th>\n",
              "      <th>average_weight</th>\n",
              "    </tr>\n",
              "  </thead>\n",
              "  <tbody>\n",
              "    <tr>\n",
              "      <th>0</th>\n",
              "      <td>12333</td>\n",
              "      <td>boardgame</td>\n",
              "      <td>Twilight Struggle</td>\n",
              "      <td>2005.0</td>\n",
              "      <td>2.0</td>\n",
              "      <td>2.0</td>\n",
              "      <td>180.0</td>\n",
              "      <td>180.0</td>\n",
              "      <td>180.0</td>\n",
              "      <td>13.0</td>\n",
              "      <td>20113</td>\n",
              "      <td>8.33774</td>\n",
              "      <td>8.22186</td>\n",
              "      <td>26647</td>\n",
              "      <td>372</td>\n",
              "      <td>1219</td>\n",
              "      <td>5865</td>\n",
              "      <td>5347</td>\n",
              "      <td>2562</td>\n",
              "      <td>3.4785</td>\n",
              "    </tr>\n",
              "    <tr>\n",
              "      <th>1</th>\n",
              "      <td>120677</td>\n",
              "      <td>boardgame</td>\n",
              "      <td>Terra Mystica</td>\n",
              "      <td>2012.0</td>\n",
              "      <td>2.0</td>\n",
              "      <td>5.0</td>\n",
              "      <td>150.0</td>\n",
              "      <td>60.0</td>\n",
              "      <td>150.0</td>\n",
              "      <td>12.0</td>\n",
              "      <td>14383</td>\n",
              "      <td>8.28798</td>\n",
              "      <td>8.14232</td>\n",
              "      <td>16519</td>\n",
              "      <td>132</td>\n",
              "      <td>1586</td>\n",
              "      <td>6277</td>\n",
              "      <td>2526</td>\n",
              "      <td>1423</td>\n",
              "      <td>3.8939</td>\n",
              "    </tr>\n",
              "    <tr>\n",
              "      <th>2</th>\n",
              "      <td>102794</td>\n",
              "      <td>boardgame</td>\n",
              "      <td>Caverna: The Cave Farmers</td>\n",
              "      <td>2013.0</td>\n",
              "      <td>1.0</td>\n",
              "      <td>7.0</td>\n",
              "      <td>210.0</td>\n",
              "      <td>30.0</td>\n",
              "      <td>210.0</td>\n",
              "      <td>12.0</td>\n",
              "      <td>9262</td>\n",
              "      <td>8.28994</td>\n",
              "      <td>8.06886</td>\n",
              "      <td>12230</td>\n",
              "      <td>99</td>\n",
              "      <td>1476</td>\n",
              "      <td>5600</td>\n",
              "      <td>1700</td>\n",
              "      <td>777</td>\n",
              "      <td>3.7761</td>\n",
              "    </tr>\n",
              "    <tr>\n",
              "      <th>3</th>\n",
              "      <td>25613</td>\n",
              "      <td>boardgame</td>\n",
              "      <td>Through the Ages: A Story of Civilization</td>\n",
              "      <td>2006.0</td>\n",
              "      <td>2.0</td>\n",
              "      <td>4.0</td>\n",
              "      <td>240.0</td>\n",
              "      <td>240.0</td>\n",
              "      <td>240.0</td>\n",
              "      <td>12.0</td>\n",
              "      <td>13294</td>\n",
              "      <td>8.20407</td>\n",
              "      <td>8.05804</td>\n",
              "      <td>14343</td>\n",
              "      <td>362</td>\n",
              "      <td>1084</td>\n",
              "      <td>5075</td>\n",
              "      <td>3378</td>\n",
              "      <td>1642</td>\n",
              "      <td>4.1590</td>\n",
              "    </tr>\n",
              "    <tr>\n",
              "      <th>4</th>\n",
              "      <td>3076</td>\n",
              "      <td>boardgame</td>\n",
              "      <td>Puerto Rico</td>\n",
              "      <td>2002.0</td>\n",
              "      <td>2.0</td>\n",
              "      <td>5.0</td>\n",
              "      <td>150.0</td>\n",
              "      <td>90.0</td>\n",
              "      <td>150.0</td>\n",
              "      <td>12.0</td>\n",
              "      <td>39883</td>\n",
              "      <td>8.14261</td>\n",
              "      <td>8.04524</td>\n",
              "      <td>44362</td>\n",
              "      <td>795</td>\n",
              "      <td>861</td>\n",
              "      <td>5414</td>\n",
              "      <td>9173</td>\n",
              "      <td>5213</td>\n",
              "      <td>3.2943</td>\n",
              "    </tr>\n",
              "  </tbody>\n",
              "</table>\n",
              "</div>"
            ],
            "text/plain": [
              "       id       type  ... total_weights  average_weight\n",
              "0   12333  boardgame  ...          2562          3.4785\n",
              "1  120677  boardgame  ...          1423          3.8939\n",
              "2  102794  boardgame  ...           777          3.7761\n",
              "3   25613  boardgame  ...          1642          4.1590\n",
              "4    3076  boardgame  ...          5213          3.2943\n",
              "\n",
              "[5 rows x 20 columns]"
            ]
          },
          "metadata": {
            "tags": []
          },
          "execution_count": 3
        }
      ]
    },
    {
      "cell_type": "code",
      "metadata": {
        "id": "AtYPT5jm8H8n",
        "colab_type": "code",
        "colab": {
          "base_uri": "https://localhost:8080/",
          "height": 374
        },
        "outputId": "485a24c6-2fde-4f09-f48a-87cf47196229"
      },
      "source": [
        "dataset.tail()"
      ],
      "execution_count": 4,
      "outputs": [
        {
          "output_type": "execute_result",
          "data": {
            "text/html": [
              "<div>\n",
              "<style scoped>\n",
              "    .dataframe tbody tr th:only-of-type {\n",
              "        vertical-align: middle;\n",
              "    }\n",
              "\n",
              "    .dataframe tbody tr th {\n",
              "        vertical-align: top;\n",
              "    }\n",
              "\n",
              "    .dataframe thead th {\n",
              "        text-align: right;\n",
              "    }\n",
              "</style>\n",
              "<table border=\"1\" class=\"dataframe\">\n",
              "  <thead>\n",
              "    <tr style=\"text-align: right;\">\n",
              "      <th></th>\n",
              "      <th>id</th>\n",
              "      <th>type</th>\n",
              "      <th>name</th>\n",
              "      <th>yearpublished</th>\n",
              "      <th>minplayers</th>\n",
              "      <th>maxplayers</th>\n",
              "      <th>playingtime</th>\n",
              "      <th>minplaytime</th>\n",
              "      <th>maxplaytime</th>\n",
              "      <th>minage</th>\n",
              "      <th>users_rated</th>\n",
              "      <th>average_rating</th>\n",
              "      <th>bayes_average_rating</th>\n",
              "      <th>total_owners</th>\n",
              "      <th>total_traders</th>\n",
              "      <th>total_wanters</th>\n",
              "      <th>total_wishers</th>\n",
              "      <th>total_comments</th>\n",
              "      <th>total_weights</th>\n",
              "      <th>average_weight</th>\n",
              "    </tr>\n",
              "  </thead>\n",
              "  <tbody>\n",
              "    <tr>\n",
              "      <th>81307</th>\n",
              "      <td>184441</td>\n",
              "      <td>boardgameexpansion</td>\n",
              "      <td>Micro Rome: Aegyptus</td>\n",
              "      <td>2015.0</td>\n",
              "      <td>1.0</td>\n",
              "      <td>1.0</td>\n",
              "      <td>0.0</td>\n",
              "      <td>30.0</td>\n",
              "      <td>0.0</td>\n",
              "      <td>10.0</td>\n",
              "      <td>0</td>\n",
              "      <td>0.0</td>\n",
              "      <td>0.0</td>\n",
              "      <td>0</td>\n",
              "      <td>0</td>\n",
              "      <td>0</td>\n",
              "      <td>0</td>\n",
              "      <td>0</td>\n",
              "      <td>0</td>\n",
              "      <td>0.0</td>\n",
              "    </tr>\n",
              "    <tr>\n",
              "      <th>81308</th>\n",
              "      <td>184442</td>\n",
              "      <td>boardgame</td>\n",
              "      <td>Trivial Pursuit: Marvel Cinematic Universe  Da...</td>\n",
              "      <td>2013.0</td>\n",
              "      <td>2.0</td>\n",
              "      <td>0.0</td>\n",
              "      <td>0.0</td>\n",
              "      <td>0.0</td>\n",
              "      <td>0.0</td>\n",
              "      <td>12.0</td>\n",
              "      <td>0</td>\n",
              "      <td>0.0</td>\n",
              "      <td>0.0</td>\n",
              "      <td>0</td>\n",
              "      <td>0</td>\n",
              "      <td>0</td>\n",
              "      <td>0</td>\n",
              "      <td>0</td>\n",
              "      <td>0</td>\n",
              "      <td>0.0</td>\n",
              "    </tr>\n",
              "    <tr>\n",
              "      <th>81309</th>\n",
              "      <td>184443</td>\n",
              "      <td>boardgame</td>\n",
              "      <td>BEARanoia</td>\n",
              "      <td>2015.0</td>\n",
              "      <td>2.0</td>\n",
              "      <td>15.0</td>\n",
              "      <td>1.0</td>\n",
              "      <td>1.0</td>\n",
              "      <td>1.0</td>\n",
              "      <td>0.0</td>\n",
              "      <td>0</td>\n",
              "      <td>0.0</td>\n",
              "      <td>0.0</td>\n",
              "      <td>0</td>\n",
              "      <td>0</td>\n",
              "      <td>0</td>\n",
              "      <td>0</td>\n",
              "      <td>0</td>\n",
              "      <td>0</td>\n",
              "      <td>0.0</td>\n",
              "    </tr>\n",
              "    <tr>\n",
              "      <th>81310</th>\n",
              "      <td>184449</td>\n",
              "      <td>boardgame</td>\n",
              "      <td>Freight</td>\n",
              "      <td>2015.0</td>\n",
              "      <td>2.0</td>\n",
              "      <td>4.0</td>\n",
              "      <td>60.0</td>\n",
              "      <td>30.0</td>\n",
              "      <td>60.0</td>\n",
              "      <td>8.0</td>\n",
              "      <td>0</td>\n",
              "      <td>0.0</td>\n",
              "      <td>0.0</td>\n",
              "      <td>0</td>\n",
              "      <td>0</td>\n",
              "      <td>0</td>\n",
              "      <td>0</td>\n",
              "      <td>0</td>\n",
              "      <td>0</td>\n",
              "      <td>0.0</td>\n",
              "    </tr>\n",
              "    <tr>\n",
              "      <th>81311</th>\n",
              "      <td>184451</td>\n",
              "      <td>boardgame</td>\n",
              "      <td>Bingo Animal Kids</td>\n",
              "      <td>2010.0</td>\n",
              "      <td>1.0</td>\n",
              "      <td>6.0</td>\n",
              "      <td>10.0</td>\n",
              "      <td>10.0</td>\n",
              "      <td>10.0</td>\n",
              "      <td>2.0</td>\n",
              "      <td>0</td>\n",
              "      <td>0.0</td>\n",
              "      <td>0.0</td>\n",
              "      <td>0</td>\n",
              "      <td>0</td>\n",
              "      <td>0</td>\n",
              "      <td>0</td>\n",
              "      <td>0</td>\n",
              "      <td>0</td>\n",
              "      <td>0.0</td>\n",
              "    </tr>\n",
              "  </tbody>\n",
              "</table>\n",
              "</div>"
            ],
            "text/plain": [
              "           id                type  ... total_weights  average_weight\n",
              "81307  184441  boardgameexpansion  ...             0             0.0\n",
              "81308  184442           boardgame  ...             0             0.0\n",
              "81309  184443           boardgame  ...             0             0.0\n",
              "81310  184449           boardgame  ...             0             0.0\n",
              "81311  184451           boardgame  ...             0             0.0\n",
              "\n",
              "[5 rows x 20 columns]"
            ]
          },
          "metadata": {
            "tags": []
          },
          "execution_count": 4
        }
      ]
    },
    {
      "cell_type": "code",
      "metadata": {
        "id": "3rtQXtzw8Uqe",
        "colab_type": "code",
        "colab": {
          "base_uri": "https://localhost:8080/",
          "height": 374
        },
        "outputId": "d7d61336-6a19-4a7a-f08a-9fe2f5deacd2"
      },
      "source": [
        "dataset.isna().sum()"
      ],
      "execution_count": 5,
      "outputs": [
        {
          "output_type": "execute_result",
          "data": {
            "text/plain": [
              "id                       0\n",
              "type                     0\n",
              "name                    41\n",
              "yearpublished            3\n",
              "minplayers               3\n",
              "maxplayers               3\n",
              "playingtime              3\n",
              "minplaytime              3\n",
              "maxplaytime              3\n",
              "minage                   3\n",
              "users_rated              0\n",
              "average_rating           0\n",
              "bayes_average_rating     0\n",
              "total_owners             0\n",
              "total_traders            0\n",
              "total_wanters            0\n",
              "total_wishers            0\n",
              "total_comments           0\n",
              "total_weights            0\n",
              "average_weight           0\n",
              "dtype: int64"
            ]
          },
          "metadata": {
            "tags": []
          },
          "execution_count": 5
        }
      ]
    },
    {
      "cell_type": "code",
      "metadata": {
        "id": "9zIVkDVM8bzn",
        "colab_type": "code",
        "colab": {}
      },
      "source": [
        "dataset.dropna(inplace=True)"
      ],
      "execution_count": 6,
      "outputs": []
    },
    {
      "cell_type": "code",
      "metadata": {
        "id": "TsHzo8kc8gml",
        "colab_type": "code",
        "colab": {
          "base_uri": "https://localhost:8080/",
          "height": 34
        },
        "outputId": "500dab4d-a688-40ba-968a-26723d2727ad"
      },
      "source": [
        "dataset.shape"
      ],
      "execution_count": 7,
      "outputs": [
        {
          "output_type": "execute_result",
          "data": {
            "text/plain": [
              "(81268, 20)"
            ]
          },
          "metadata": {
            "tags": []
          },
          "execution_count": 7
        }
      ]
    },
    {
      "cell_type": "code",
      "metadata": {
        "id": "F-t2ddK98kxL",
        "colab_type": "code",
        "colab": {
          "base_uri": "https://localhost:8080/",
          "height": 333
        },
        "outputId": "ed5310f7-af4c-475e-99a0-dea59189bb57"
      },
      "source": [
        "plt.hist(dataset['average_rating'])"
      ],
      "execution_count": 9,
      "outputs": [
        {
          "output_type": "execute_result",
          "data": {
            "text/plain": [
              "(array([24374.,   606.,  1324.,  3303.,  6681., 12264., 15835., 11733.,\n",
              "         3860.,  1288.]),\n",
              " array([ 0.,  1.,  2.,  3.,  4.,  5.,  6.,  7.,  8.,  9., 10.]),\n",
              " <a list of 10 Patch objects>)"
            ]
          },
          "metadata": {
            "tags": []
          },
          "execution_count": 9
        },
        {
          "output_type": "display_data",
          "data": {
            "image/png": "[encoded data removed]",
            "text/plain": [
              "<Figure size 432x288 with 1 Axes>"
            ]
          },
          "metadata": {
            "tags": [],
            "needs_background": "light"
          }
        }
      ]
    },
    {
      "cell_type": "code",
      "metadata": {
        "id": "7nFZGFAK8xPN",
        "colab_type": "code",
        "colab": {
          "base_uri": "https://localhost:8080/",
          "height": 647
        },
        "outputId": "acb63bb5-ac9a-419c-c7a0-1962860acc70"
      },
      "source": [
        "correlation = dataset.corr()\n",
        "fig = plt.figure(figsize=(10,10))\n",
        "sns.heatmap(correlation , vmax = 0.8 , square=True)\n",
        "plt.show()"
      ],
      "execution_count": 10,
      "outputs": [
        {
          "output_type": "display_data",
          "data": {
            "image/png": "[encoded data removed]",
            "text/plain": [
              "<Figure size 720x720 with 2 Axes>"
            ]
          },
          "metadata": {
            "tags": [],
            "needs_background": "light"
          }
        }
      ]
    },
    {
      "cell_type": "code",
      "metadata": {
        "id": "eudO1lxL9TuU",
        "colab_type": "code",
        "colab": {}
      },
      "source": [
        "X = dataset.iloc[: , [4,5,6,7,8,9,10]].values\n",
        "y = dataset.iloc[: , 11].values"
      ],
      "execution_count": 11,
      "outputs": []
    },
    {
      "cell_type": "code",
      "metadata": {
        "id": "tl_mhdcN9ljc",
        "colab_type": "code",
        "colab": {}
      },
      "source": [
        "from sklearn.model_selection import train_test_split\n",
        "x_train , x_test , y_train , y_test = train_test_split(X ,y , test_size=0.2 , random_state=0)"
      ],
      "execution_count": 12,
      "outputs": []
    },
    {
      "cell_type": "code",
      "metadata": {
        "id": "7UfHcAiD_dUX",
        "colab_type": "code",
        "colab": {
          "base_uri": "https://localhost:8080/",
          "height": 34
        },
        "outputId": "ff154df1-2c30-4c1b-f00d-ae53d5af5b2a"
      },
      "source": [
        "x_train.shape"
      ],
      "execution_count": 13,
      "outputs": [
        {
          "output_type": "execute_result",
          "data": {
            "text/plain": [
              "(65014, 7)"
            ]
          },
          "metadata": {
            "tags": []
          },
          "execution_count": 13
        }
      ]
    },
    {
      "cell_type": "code",
      "metadata": {
        "id": "zJ2ALX8X_fg0",
        "colab_type": "code",
        "colab": {
          "base_uri": "https://localhost:8080/",
          "height": 34
        },
        "outputId": "288e11e3-8b04-4f94-cc23-ae2e7d9b6293"
      },
      "source": [
        "from math  import sqrt\n",
        "sqrt(65014)"
      ],
      "execution_count": 14,
      "outputs": [
        {
          "output_type": "execute_result",
          "data": {
            "text/plain": [
              "254.97843046030383"
            ]
          },
          "metadata": {
            "tags": []
          },
          "execution_count": 14
        }
      ]
    },
    {
      "cell_type": "code",
      "metadata": {
        "id": "-qqO3kXI_j8a",
        "colab_type": "code",
        "colab": {
          "base_uri": "https://localhost:8080/",
          "height": 136
        },
        "outputId": "2a234f64-1bca-4701-dfe7-716c0405cd3e"
      },
      "source": [
        "from sklearn.ensemble import RandomForestRegressor\n",
        "regressor = RandomForestRegressor(n_estimators = 255 , random_state=0)\n",
        "regressor.fit(x_train , y_train)"
      ],
      "execution_count": 15,
      "outputs": [
        {
          "output_type": "execute_result",
          "data": {
            "text/plain": [
              "RandomForestRegressor(bootstrap=True, ccp_alpha=0.0, criterion='mse',\n",
              "                      max_depth=None, max_features='auto', max_leaf_nodes=None,\n",
              "                      max_samples=None, min_impurity_decrease=0.0,\n",
              "                      min_impurity_split=None, min_samples_leaf=1,\n",
              "                      min_samples_split=2, min_weight_fraction_leaf=0.0,\n",
              "                      n_estimators=255, n_jobs=None, oob_score=False,\n",
              "                      random_state=0, verbose=0, warm_start=False)"
            ]
          },
          "metadata": {
            "tags": []
          },
          "execution_count": 15
        }
      ]
    },
    {
      "cell_type": "code",
      "metadata": {
        "id": "t52Vugom_0It",
        "colab_type": "code",
        "colab": {}
      },
      "source": [
        "y_pred = regressor.predict(x_test)"
      ],
      "execution_count": 16,
      "outputs": []
    },
    {
      "cell_type": "code",
      "metadata": {
        "id": "8YVCUipu__6m",
        "colab_type": "code",
        "colab": {
          "base_uri": "https://localhost:8080/",
          "height": 35
        },
        "outputId": "2a411ecb-fc11-4cf5-9b4e-ee3c58966411"
      },
      "source": [
        "from sklearn.metrics import r2_score\n",
        "r2_score(y_test , y_pred)"
      ],
      "execution_count": 17,
      "outputs": [
        {
          "output_type": "execute_result",
          "data": {
            "text/plain": [
              "0.8412423148648285"
            ]
          },
          "metadata": {
            "tags": []
          },
          "execution_count": 17
        }
      ]
    },
    {
      "cell_type": "markdown",
      "metadata": {
        "id": "nSGJe9HqAcdN",
        "colab_type": "text"
      },
      "source": [
        "**Evaluating our model**"
      ]
    },
    {
      "cell_type": "code",
      "metadata": {
        "id": "5qbMxguQAibJ",
        "colab_type": "code",
        "colab": {
          "base_uri": "https://localhost:8080/",
          "height": 34
        },
        "outputId": "9cf928e9-8200-4c12-948d-88b4f2b8b9ea"
      },
      "source": [
        "from sklearn.model_selection import cross_val_score\n",
        "accuracies = cross_val_score(estimator = regressor ,X=x_train ,y=y_train , cv=10)\n",
        "accuracies.mean()\n",
        "accuracies.std()"
      ],
      "execution_count": 18,
      "outputs": [
        {
          "output_type": "execute_result",
          "data": {
            "text/plain": [
              "0.0033369048692157587"
            ]
          },
          "metadata": {
            "tags": []
          },
          "execution_count": 18
        }
      ]
    },
    {
      "cell_type": "code",
      "metadata": {
        "id": "pQ2qrXUuCgPk",
        "colab_type": "code",
        "colab": {
          "base_uri": "https://localhost:8080/",
          "height": 34
        },
        "outputId": "bbc3ecd8-b836-4923-a759-b593f9804773"
      },
      "source": [
        "accuracies.mean()"
      ],
      "execution_count": 19,
      "outputs": [
        {
          "output_type": "execute_result",
          "data": {
            "text/plain": [
              "0.8401970378886991"
            ]
          },
          "metadata": {
            "tags": []
          },
          "execution_count": 19
        }
      ]
    },
    {
      "cell_type": "markdown",
      "metadata": {
        "id": "8mxxw42tCofB",
        "colab_type": "text"
      },
      "source": [
        "**Improving the model**"
      ]
    },
    {
      "cell_type": "code",
      "metadata": {
        "id": "_Ex21EUsCkz3",
        "colab_type": "code",
        "colab": {}
      },
      "source": [
        "from sklearn.model_selection import GridSearchCV\n",
        "parameters = {\n",
        "    'bootstrap':[True],\n",
        "    'min_samples_leaf':[3,4,5],\n",
        "    'min_samples_split':[6,8,10,12],\n",
        "    'n_estimators':[251,261,271]\n",
        "}\n",
        "\n",
        "grid = GridSearchCV(estimator = regressor , param_grid = parameters , cv = 10 , n_jobs=-1)\n",
        "grid = grid.fit(x_train , y_train)\n",
        "\n",
        "best_accuracy = grid.best_score_\n",
        "best_parameters = grid.best_params_"
      ],
      "execution_count": 21,
      "outputs": []
    },
    {
      "cell_type": "code",
      "metadata": {
        "id": "1NplhqVkfoVg",
        "colab_type": "code",
        "colab": {
          "base_uri": "https://localhost:8080/",
          "height": 34
        },
        "outputId": "607fff93-8a1e-4fbb-9260-f1d3ca9ffb19"
      },
      "source": [
        "best_accuracy"
      ],
      "execution_count": 23,
      "outputs": [
        {
          "output_type": "execute_result",
          "data": {
            "text/plain": [
              "0.853678062462776"
            ]
          },
          "metadata": {
            "tags": []
          },
          "execution_count": 23
        }
      ]
    },
    {
      "cell_type": "code",
      "metadata": {
        "id": "Y3OUhAwBf2go",
        "colab_type": "code",
        "colab": {
          "base_uri": "https://localhost:8080/",
          "height": 85
        },
        "outputId": "b016feb3-49b8-4db8-fe2b-0f84994f7f29"
      },
      "source": [
        "best_parameters"
      ],
      "execution_count": 24,
      "outputs": [
        {
          "output_type": "execute_result",
          "data": {
            "text/plain": [
              "{'bootstrap': True,\n",
              " 'min_samples_leaf': 5,\n",
              " 'min_samples_split': 12,\n",
              " 'n_estimators': 271}"
            ]
          },
          "metadata": {
            "tags": []
          },
          "execution_count": 24
        }
      ]
    },
    {
      "cell_type": "code",
      "metadata": {
        "id": "tMPjwUdEf75I",
        "colab_type": "code",
        "colab": {}
      },
      "source": [
        "#Thank you!!"
      ],
      "execution_count": null,
      "outputs": []
    }
  ]
}